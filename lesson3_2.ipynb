{
 "cells": [
  {
   "cell_type": "code",
<<<<<<< HEAD
   "execution_count": 4,
=======
   "execution_count": 2,
>>>>>>> 7b13ddd0e4657e14ebfdc26c516d90688fe52ec1
   "metadata": {},
   "outputs": [
    {
     "name": "stdout",
     "output_type": "stream",
     "text": [
<<<<<<< HEAD
      "您是成年\n",
      "20\n",
=======
      "輸入錯誤\n",
>>>>>>> 7b13ddd0e4657e14ebfdc26c516d90688fe52ec1
      "應用程式結束\n"
     ]
    }
   ],
   "source": [
    "try:\n",
    "    age = int(input(\"請輸入age:\"))\n",
    "except:\n",
    "    print(\"輸入錯誤\")\n",
    "else:\n",
<<<<<<< HEAD
    "    if age >=20:\n",
=======
    "    if age >= 20:\n",
>>>>>>> 7b13ddd0e4657e14ebfdc26c516d90688fe52ec1
    "        print(\"您是成年\")\n",
    "        print(age)\n",
    "    else:\n",
    "        print(\"你是未成年\")\n",
<<<<<<< HEAD
    "        prine(age)\n",
=======
    "        print(age)\n",
>>>>>>> 7b13ddd0e4657e14ebfdc26c516d90688fe52ec1
    "print(\"應用程式結束\")"
   ]
  },
  {
   "cell_type": "code",
<<<<<<< HEAD
   "execution_count": null,
   "metadata": {},
   "outputs": [],
   "source": [
    "import pyinputplus"
=======
   "execution_count": 5,
   "metadata": {},
   "outputs": [
    {
     "name": "stdout",
     "output_type": "stream",
     "text": [
      "請輸入age:'20a' is not a number.\n",
      "請輸入age:'21a' is not a number.\n",
      "請輸入age:20\n"
     ]
    }
   ],
   "source": [
    "import pyinputplus as pyip\n",
    "\n",
    "age = pyip.inputNum(\"請輸入age:\")\n",
    "print(age)"
>>>>>>> 7b13ddd0e4657e14ebfdc26c516d90688fe52ec1
   ]
  }
 ],
 "metadata": {
  "kernelspec": {
   "display_name": "Python 3",
   "language": "python",
   "name": "python3"
  },
  "language_info": {
   "codemirror_mode": {
    "name": "ipython",
    "version": 3
   },
   "file_extension": ".py",
   "mimetype": "text/x-python",
   "name": "python",
   "nbconvert_exporter": "python",
   "pygments_lexer": "ipython3",
   "version": "3.10.13"
  }
 },
 "nbformat": 4,
 "nbformat_minor": 2
}
