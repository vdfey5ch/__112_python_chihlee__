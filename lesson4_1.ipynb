{
 "cells": [
  {
   "cell_type": "code",
<<<<<<< HEAD
   "execution_count": 11,
=======
   "execution_count": 8,
>>>>>>> 7b13ddd0e4657e14ebfdc26c516d90688fe52ec1
   "metadata": {},
   "outputs": [
    {
     "name": "stdout",
     "output_type": "stream",
     "text": [
      "請輸入學生分數(最高300分):\n",
<<<<<<< HEAD
      "學生賴羿巧分數為290\n"
=======
      "學生徐國堂分數為270\n"
>>>>>>> 7b13ddd0e4657e14ebfdc26c516d90688fe52ec1
     ]
    }
   ],
   "source": [
    "#學生總分為300\n",
    "import pyinputplus as pyip\n",
    "\n",
    "scores = pyip.inputInt(\"請輸入學生分數(最高300分):\")\n",
<<<<<<< HEAD
    "name = \"賴羿巧\"\n",
    "print()\n",
    "print(f\"學生{name}分數為{scores}\") #字串插補"
   ]
  },
  {
   "cell_type": "code",
   "execution_count": 12,
   "metadata": {},
   "outputs": [
    {
     "name": "stdout",
     "output_type": "stream",
     "text": [
      "請輸入學生分數(最高300分):\n",
      "學生賴羿巧分數為270\n"
     ]
    }
   ],
   "source": [
    "#學生總分為300\n",
    "import pyinputplus as pyip\n",
    "\n",
    "scores = pyip.inputInt(\"請輸入學生分數(最高300分):\")\n",
    "name = \"賴羿巧\"\n",
=======
    "name = \"徐國堂\"\n",
>>>>>>> 7b13ddd0e4657e14ebfdc26c516d90688fe52ec1
    "print()\n",
    "if scores <= 300:\n",
    "    print(f\"學生{name}分數為{scores}\") #字串插補\n",
    "else:\n",
<<<<<<< HEAD
    "    print(f\"豬頭,不可以超過300\")"
=======
    "    print(f\"豬頭,不可以超過300\")\n"
>>>>>>> 7b13ddd0e4657e14ebfdc26c516d90688fe52ec1
   ]
  },
  {
   "cell_type": "code",
<<<<<<< HEAD
   "execution_count": null,
   "metadata": {},
   "outputs": [],
   "source": []
  },
  {
   "cell_type": "code",
   "execution_count": 3,
=======
   "execution_count": 24,
>>>>>>> 7b13ddd0e4657e14ebfdc26c516d90688fe52ec1
   "metadata": {},
   "outputs": [
    {
     "name": "stdout",
     "output_type": "stream",
     "text": [
<<<<<<< HEAD
      "請輸入學生分數(最高300分):\n",
      "學生賴羿巧分數為290\n"
     ]
    }
   ],
   "source": [
    "#學生總分為300\n",
    "import pyinputplus as pyip\n",
    "\n",
    "scores = pyip.inputInt(prompt=\"請輸入學生分數(最高300分):\",min=0,max=300)\n",
    "name = \"賴羿巧\"\n",
    "print()\n",
    "print(f\"學生{name}分數為{scores}\") #字串插補"
   ]
  },
  {
   "cell_type": "code",
   "execution_count": 5,
   "metadata": {},
   "outputs": [
    {
     "name": "stdout",
     "output_type": "stream",
     "text": [
      "請輸入學生分數(最高300分):290\n",
      "學生是否符合加分條件(請選擇1或2)?\n",
      "1. y\n",
      "2. n\n",
      "學生分數為290\n"
=======
      "請輸入學生分數(最高300分):270\n",
      "學生是否符合加分條件(請選擇1或2)?\n",
      "1. y\n",
      "2. n\n",
      "學生分數為270\n"
>>>>>>> 7b13ddd0e4657e14ebfdc26c516d90688fe52ec1
     ]
    }
   ],
   "source": [
    "#學生總分為300\n",
    "#有些學生可以加分5%\n",
<<<<<<< HEAD
    "#如果加分超過300,就可以300分為準\n",
=======
    "#如果加分超過300,就以300分為準\n",
>>>>>>> 7b13ddd0e4657e14ebfdc26c516d90688fe52ec1
    "\n",
    "import pyinputplus as pyip\n",
    "\n",
    "scores = pyip.inputInt(\"請輸入學生分數(最高300分):\",min=0,max=300)\n",
    "print(scores)\n",
    "isYes = pyip.inputMenu(['y','n'],prompt=\"學生是否符合加分條件(請選擇1或2)?\\n\",numbered=True)\n",
    "if isYes == 'y':\n",
    "    scores *= 1.05\n",
    "    if scores > 300:\n",
    "        scores = 300\n",
    "\n",
<<<<<<< HEAD
    "print(f\"學生分數為{scores}\")"
=======
    "print(f\"學生分數為{scores}\")\n",
    "\n"
>>>>>>> 7b13ddd0e4657e14ebfdc26c516d90688fe52ec1
   ]
  },
  {
   "cell_type": "code",
<<<<<<< HEAD
   "execution_count": 1,
   "metadata": {},
   "outputs": [],
   "source": [
    "import pyinputplus"
=======
   "execution_count": null,
   "metadata": {},
   "outputs": [],
   "source": [
    "#巢狀選擇\n",
    "#• 如果x不是負數，則傳回值為 x ** (1 / y)。\n",
    "#• 如果x是負數而且為偶數，則傳回值為\"虛數\"。\n",
    "#• 如果x是負數而且為奇數，則傳回值為 -(-x) ** (1 / y)"
>>>>>>> 7b13ddd0e4657e14ebfdc26c516d90688fe52ec1
   ]
  },
  {
   "cell_type": "code",
<<<<<<< HEAD
   "execution_count": 15,
=======
   "execution_count": 28,
>>>>>>> 7b13ddd0e4657e14ebfdc26c516d90688fe52ec1
   "metadata": {},
   "outputs": [
    {
     "name": "stdout",
     "output_type": "stream",
     "text": [
      "-3.0\n"
     ]
    }
   ],
   "source": [
    "x = -9\n",
    "y = 2\n",
    "if x >= 0:\n",
<<<<<<< HEAD
    "    print(\"不是偶數\")\n",
=======
    "    print(\"不是負數\")\n",
>>>>>>> 7b13ddd0e4657e14ebfdc26c516d90688fe52ec1
    "    root = x ** (1 /y)\n",
    "else:\n",
    "    if x % 2 == 0:\n",
    "        root = \"虛數\"\n",
    "    else:\n",
    "        root = -(-x) ** (1 / y)\n",
<<<<<<< HEAD
    "print(root)   \n"
=======
    "\n",
    "print(root)"
>>>>>>> 7b13ddd0e4657e14ebfdc26c516d90688fe52ec1
   ]
  },
  {
   "cell_type": "code",
<<<<<<< HEAD
   "execution_count": 18,
=======
   "execution_count": 33,
>>>>>>> 7b13ddd0e4657e14ebfdc26c516d90688fe52ec1
   "metadata": {},
   "outputs": [
    {
     "name": "stdout",
     "output_type": "stream",
     "text": [
      "甲\n"
     ]
    }
   ],
   "source": [
<<<<<<< HEAD
    "scores = 79\n",
=======
    "scores = 75\n",
    "\n",
>>>>>>> 7b13ddd0e4657e14ebfdc26c516d90688fe52ec1
    "if scores < 60:\n",
    "    print(\"不及格\")\n",
    "else:\n",
    "    if scores >= 80:\n",
    "        print(\"優\")\n",
    "    else:\n",
    "        print(\"甲\")"
   ]
  },
  {
   "cell_type": "code",
<<<<<<< HEAD
   "execution_count": 30,
=======
   "execution_count": 37,
>>>>>>> 7b13ddd0e4657e14ebfdc26c516d90688fe52ec1
   "metadata": {},
   "outputs": [
    {
     "name": "stdout",
     "output_type": "stream",
     "text": [
<<<<<<< HEAD
      "甲\n"
=======
      "不及格\n"
>>>>>>> 7b13ddd0e4657e14ebfdc26c516d90688fe52ec1
     ]
    }
   ],
   "source": [
<<<<<<< HEAD
    "scores = 79\n",
    "if scores < 60:\n",
    "    print(\"不及格\")\n",
    "elif scores >= 80:\n",
    "        print(\"優\")\n",
=======
    "scores = 59\n",
    "\n",
    "if scores < 60:\n",
    "    print(\"不及格\")\n",
    "elif scores >= 80:    \n",
    "    print(\"優\")\n",
>>>>>>> 7b13ddd0e4657e14ebfdc26c516d90688fe52ec1
    "else:\n",
    "    print(\"甲\")"
   ]
  },
  {
   "cell_type": "code",
<<<<<<< HEAD
   "execution_count": 29,
=======
   "execution_count": 42,
>>>>>>> 7b13ddd0e4657e14ebfdc26c516d90688fe52ec1
   "metadata": {},
   "outputs": [
    {
     "name": "stdout",
     "output_type": "stream",
     "text": [
      "丁\n"
     ]
    }
   ],
   "source": [
<<<<<<< HEAD
    "scores = 50\n",
    "if scores >= 90:\n",
    "    print(\"優\")\n",
    "elif scores >= 80:\n",
    "        print(\"甲\")\n",
    "elif scores >= 70:\n",
    "        print(\"乙\")\n",
    "elif scores >= 60:\n",
    "        print(\"丙\")\n",
    "else:\n",
    "    print(\"丁\")"
   ]
  },
  {
   "cell_type": "code",
   "execution_count": null,
   "metadata": {},
   "outputs": [],
   "source": [
    "#輸入顧客購買金額，若金額在\n",
    "#100000打8折\n",
    "#50000打85折\n",
    "#30000打9折\n",
    "#10000打95折\n",
    "\n",
    "#請輸入購買金額:130000\n",
    "#實付金額是:104000.0元\n",
    "\n"
=======
    "#多項選擇\n",
    "scores = 59\n",
    "if scores >= 90:\n",
    "    print('優')\n",
    "elif scores >= 80:\n",
    "    print('甲')\n",
    "elif scores >= 70:\n",
    "    print('乙')\n",
    "elif scores >= 60:\n",
    "    print('丙')\n",
    "else:\n",
    "    print('丁')"
>>>>>>> 7b13ddd0e4657e14ebfdc26c516d90688fe52ec1
   ]
  }
 ],
 "metadata": {
  "kernelspec": {
   "display_name": "Python 3",
   "language": "python",
   "name": "python3"
  },
  "language_info": {
   "codemirror_mode": {
    "name": "ipython",
    "version": 3
   },
   "file_extension": ".py",
   "mimetype": "text/x-python",
   "name": "python",
   "nbconvert_exporter": "python",
   "pygments_lexer": "ipython3",
   "version": "3.10.13"
  }
 },
 "nbformat": 4,
 "nbformat_minor": 2
}
