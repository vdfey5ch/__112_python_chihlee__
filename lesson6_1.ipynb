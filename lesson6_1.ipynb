{
 "cells": [
  {
   "cell_type": "code",
   "execution_count": 3,
   "metadata": {},
   "outputs": [
    {
     "name": "stdout",
     "output_type": "stream",
     "text": [
      "1\n",
      "2\n",
      "3\n",
      "4\n",
      "5\n",
      "6\n",
      "7\n",
      "8\n",
      "9\n",
      "10\n"
     ]
    }
   ],
   "source": [
    "import random\n",
    "\n",
    "n = 1\n",
    "while n<=10:\n",
    "    print(n)\n",
    "    n += 1"
   ]
  },
  {
   "cell_type": "code",
   "execution_count": 4,
   "metadata": {},
   "outputs": [
    {
     "name": "stdout",
     "output_type": "stream",
     "text": [
      "1\n",
      "4\n",
      "6\n",
      "8\n",
      "16\n",
      "23\n",
      "24\n",
      "32\n",
      "33\n",
      "38\n",
      "43\n",
      "50\n",
      "53\n",
      "59\n",
      "69\n",
      "78\n",
      "80\n",
      "89\n",
      "94\n",
      "98\n",
      "99\n"
     ]
    }
   ],
   "source": [
    "import random\n",
    "n = 1\n",
    "while n<=100:\n",
    "    print(n)\n",
    "    n += random.randint(1,10)"
   ]
  },
  {
   "cell_type": "code",
   "execution_count": null,
   "metadata": {},
   "outputs": [],
   "source": [
    "#奇數輸出平方\n",
    "#偶數輸出原來的值\n",
    "#\"q\"離開"
   ]
  },
  {
   "cell_type": "code",
   "execution_count": 8,
   "metadata": {},
   "outputs": [
    {
     "ename": "NameError",
     "evalue": "name 'value' is not defined",
     "output_type": "error",
     "traceback": [
      "\u001b[0;31m---------------------------------------------------------------------------\u001b[0m",
      "\u001b[0;31mNameError\u001b[0m                                 Traceback (most recent call last)",
      "\u001b[1;32m/workspaces/__112_python_chihlee__/lesson6_1.ipynb Cell 4\u001b[0m line \u001b[0;36m7\n\u001b[1;32m      <a href='vscode-notebook-cell://codespaces%2Borange-guide-r4gjr955r5x4h55x6/workspaces/__112_python_chihlee__/lesson6_1.ipynb#W3sdnNjb2RlLXJlbW90ZQ%3D%3D?line=4'>5</a>\u001b[0m Value \u001b[39m=\u001b[39m \u001b[39mint\u001b[39m(Value)\n\u001b[1;32m      <a href='vscode-notebook-cell://codespaces%2Borange-guide-r4gjr955r5x4h55x6/workspaces/__112_python_chihlee__/lesson6_1.ipynb#W3sdnNjb2RlLXJlbW90ZQ%3D%3D?line=5'>6</a>\u001b[0m \u001b[39mif\u001b[39;00m Value \u001b[39m%\u001b[39m \u001b[39m2\u001b[39m \u001b[39m==\u001b[39m \u001b[39m1\u001b[39m:\n\u001b[0;32m----> <a href='vscode-notebook-cell://codespaces%2Borange-guide-r4gjr955r5x4h55x6/workspaces/__112_python_chihlee__/lesson6_1.ipynb#W3sdnNjb2RlLXJlbW90ZQ%3D%3D?line=6'>7</a>\u001b[0m     \u001b[39mprint\u001b[39m(value \u001b[39m*\u001b[39m\u001b[39m*\u001b[39m \u001b[39m2\u001b[39m)\n\u001b[1;32m      <a href='vscode-notebook-cell://codespaces%2Borange-guide-r4gjr955r5x4h55x6/workspaces/__112_python_chihlee__/lesson6_1.ipynb#W3sdnNjb2RlLXJlbW90ZQ%3D%3D?line=7'>8</a>\u001b[0m \u001b[39melse\u001b[39;00m:\n\u001b[1;32m      <a href='vscode-notebook-cell://codespaces%2Borange-guide-r4gjr955r5x4h55x6/workspaces/__112_python_chihlee__/lesson6_1.ipynb#W3sdnNjb2RlLXJlbW90ZQ%3D%3D?line=8'>9</a>\u001b[0m     \u001b[39mprint\u001b[39m(Value)\n",
      "\u001b[0;31mNameError\u001b[0m: name 'value' is not defined"
     ]
    }
   ],
   "source": [
    "while True:\n",
    "    Value = input(\"請輸入整數,輸入(q)離開:\")\n",
    "    if Value == \"q\":\n",
    "        break\n",
    "    Value = int(Value)\n",
    "    if Value % 2 == 1:\n",
    "        print(value ** 2)\n",
    "    else:\n",
    "        print(Value)\n",
    "print(\"應用程式結束\")"
   ]
  },
  {
   "cell_type": "code",
   "execution_count": 9,
   "metadata": {},
   "outputs": [
    {
     "name": "stdout",
     "output_type": "stream",
     "text": [
      "1\n",
      "9\n",
      "9\n",
      "25\n",
      "2\n",
      "應用程式結束\n"
     ]
    }
   ],
   "source": [
    "while True:\n",
    "    value = input(\"請輸入整數,輸入(q)離開:\")\n",
    "    if value == \"q\":\n",
    "        break    \n",
    "    value = int(value)\n",
    "    if value % 2 == 1:\n",
    "        print(value ** 2)\n",
    "    else:\n",
    "        print(value)\n",
    "print(\"應用程式結束\")"
   ]
  },
  {
   "cell_type": "code",
   "execution_count": null,
   "metadata": {},
   "outputs": [],
   "source": [
    "#請設計一個程式，讓使用者輸入數值，只有加總正偶數值，不加總正奇數值，如果輸入負數，程式結束。\n",
    "\n",
    "total = 0\n",
    "num = 0\n",
    "while(True):\n",
    "    value = int(input(\"請輸入第{num+1}數值:\"))\n",
    "    num += 1\n",
    "    if value < 0:\n",
    "        break\n",
    "    elif value %2 == 1:\n",
    "        continue\n",
    "    else:\n",
    "        total += value\n",
    "print(\"應用程式結束\")\n",
    "print(total)"
   ]
  },
  {
   "cell_type": "code",
   "execution_count": 10,
   "metadata": {},
   "outputs": [
    {
     "name": "stdout",
     "output_type": "stream",
     "text": [
      "應用程式結束\n",
      "總共執行5\n",
      "6\n"
     ]
    }
   ],
   "source": [
    "#請設計一個程式，讓使用者輸入數值，只有加總正偶數值，不加總正奇數值，如果輸入負數，結束程式。\n",
    "\n",
    "total = 0\n",
    "num = 0\n",
    "while(True):     \n",
    "    value = int(input(f\"請輸入第{num+1}數值:\"))   \n",
    "    if value < 0:\n",
    "        break\n",
    "        print(\"break之後\")\n",
    "    elif value % 2 == 1:\n",
    "        num += 1\n",
    "        continue\n",
    "        print(\"continue之後\")\n",
    "    else:\n",
    "        num += 1\n",
    "        total += value\n",
    "    \n",
    "    \n",
    "print(\"應用程式結束\")\n",
    "print(f\"總共執行{num}\")\n",
    "print(total)"
   ]
  }
 ],
 "metadata": {
  "kernelspec": {
   "display_name": "Python 3",
   "language": "python",
   "name": "python3"
  },
  "language_info": {
   "codemirror_mode": {
    "name": "ipython",
    "version": 3
   },
   "file_extension": ".py",
   "mimetype": "text/x-python",
   "name": "python",
   "nbconvert_exporter": "python",
   "pygments_lexer": "ipython3",
   "version": "3.10.13"
  }
 },
 "nbformat": 4,
 "nbformat_minor": 2
}
