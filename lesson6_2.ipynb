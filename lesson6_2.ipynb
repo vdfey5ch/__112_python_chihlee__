{
 "cells": [
  {
   "cell_type": "code",
   "execution_count": 1,
   "metadata": {},
   "outputs": [
    {
     "name": "stdout",
     "output_type": "stream",
     "text": [
      "1\n",
      "2\n",
      "3\n",
      "4\n",
      "5\n",
      "6\n",
      "7\n",
      "8\n",
      "9\n",
      "10\n"
     ]
    }
   ],
   "source": [
    "import random\n",
    "\n",
    "n = 1\n",
    "while n<=10:\n",
    "    print(n)\n",
    "    n += 1"
   ]
  },
  {
   "cell_type": "code",
   "execution_count": 2,
   "metadata": {},
   "outputs": [
    {
     "name": "stdout",
     "output_type": "stream",
     "text": [
      "1\n",
      "9\n",
      "12\n",
      "18\n",
      "27\n",
      "30\n",
      "34\n",
      "39\n",
      "41\n",
      "43\n",
      "46\n",
      "49\n",
      "58\n",
      "60\n",
      "63\n",
      "66\n",
      "71\n",
      "81\n",
      "88\n",
      "92\n",
      "93\n",
      "96\n",
      "99\n",
      "100\n"
     ]
    }
   ],
   "source": [
    "import random\n",
    "n = 1\n",
    "while n<=100:\n",
    "    print(n)\n",
    "    n += random.randint(1,10)"
   ]
  },
  {
   "cell_type": "code",
   "execution_count": null,
   "metadata": {},
   "outputs": [],
   "source": [
    "#奇數輸出平方\n",
    "#偶數輸出原來的值\n",
    "#'q'離開"
   ]
  },
  {
   "cell_type": "code",
   "execution_count": 3,
   "metadata": {},
   "outputs": [
    {
     "name": "stdout",
     "output_type": "stream",
     "text": [
      "2\n",
      "81\n",
      "6\n",
      "6\n",
      "9\n",
      "應用程式結束\n"
     ]
    }
   ],
   "source": [
    "while True:\n",
    "    value = input(\"請輸入整數,輸入(q)離開:\")\n",
    "    if value == \"q\":\n",
    "        break    \n",
    "    value = int(value)\n",
    "    if value % 2 == 1:\n",
    "        print(value ** 2)\n",
    "    else:\n",
    "        print(value)\n",
    "print(\"應用程式結束\")"
   ]
  },
  {
   "cell_type": "code",
   "execution_count": 4,
   "metadata": {},
   "outputs": [
    {
     "name": "stdout",
     "output_type": "stream",
     "text": [
      "應用程式結束\n",
      "總共執行5\n",
      "10\n"
     ]
    }
   ],
   "source": [
    "#請設計一個程式，讓使用者輸入數值，只有加總正偶數值，不加總正奇數值，如果輸入負數，結束程式。\n",
    "\n",
    "total = 0\n",
    "num = 0\n",
    "while(True):     \n",
    "    value = int(input(f\"請輸入第{num+1}數值:\"))   \n",
    "    if value < 0:\n",
    "        break\n",
    "        print(\"break之後\")\n",
    "    elif value % 2 == 1:\n",
    "        num += 1\n",
    "        continue\n",
    "        print(\"continue之後\")\n",
    "    else:\n",
    "        num += 1\n",
    "        total += value\n",
    "    \n",
    "    \n",
    "print(\"應用程式結束\")\n",
    "print(f\"總共執行{num}\")\n",
    "print(total)"
   ]
  }
 ],
 "metadata": {
  "kernelspec": {
   "display_name": "Python 3",
   "language": "python",
   "name": "python3"
  },
  "language_info": {
   "codemirror_mode": {
    "name": "ipython",
    "version": 3
   },
   "file_extension": ".py",
   "mimetype": "text/x-python",
   "name": "python",
   "nbconvert_exporter": "python",
   "pygments_lexer": "ipython3",
   "version": "3.10.13"
  }
 },
 "nbformat": 4,
 "nbformat_minor": 2
}
