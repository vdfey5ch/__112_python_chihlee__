{
 "cells": [
  {
   "cell_type": "code",
   "execution_count": 9,
   "metadata": {},
   "outputs": [
    {
     "name": "stdout",
     "output_type": "stream",
     "text": [
      "單純收縮期高血壓\n"
     ]
    }
   ],
   "source": [
    "def get_suggestion(s,d):\n",
    "    if (s < 120) and (d < 80):\n",
    "        return '正常'\n",
    "    elif (120 <= s <= 129) and (d < 80):\n",
    "        return '血壓升高'\n",
    "    elif (130 <= s) and (d < 80):\n",
    "        return '單純收縮期高血壓'\n",
    "    elif (130 <= s <= 139) or (80 <= d <= 89):\n",
    "        return '高血壓一期'\n",
    "    elif (140 <=s) or (90 <= d):\n",
    "        return '高血壓二期'\n",
    "\n",
    "sbp = int(input(\"請輸入收縮壓:\"))\n",
    "dbp = int(input(\"請輸入舒張壓:\"))\n",
    "\n",
    "suggestion = get_suggestion(sbp,dbp)\n",
    "print(suggestion)"
   ]
  },
  {
   "cell_type": "code",
   "execution_count": 8,
   "metadata": {},
   "outputs": [
    {
     "name": "stdout",
     "output_type": "stream",
     "text": [
      "單純收縮期高血壓\n"
     ]
    }
   ],
   "source": [
    "sbp = int(input(\"請輸入收縮壓:\"))\n",
    "dbp = int(input(\"請輸入舒張壓:\"))\n",
    "def get_suggestion(s,d):\n",
    "    if(s < 120) and (d < 80):\n",
    "        return '正常'\n",
    "    elif (120 <= s <= 129) and (d < 80):\n",
    "        return '血壓升高'\n",
    "    elif (s >= 130) and (d < 80):\n",
    "        return '單純收縮期高血壓'\n",
    "    elif (130 <= s <= 139) or (80<= d <= 89):\n",
    "        return '高血壓一期'\n",
    "    elif (s >= 140) or (d >= 90):\n",
    "        return '高血壓二期'\n",
    "\n",
    "suggestion = get_suggestion(sbp,dbp)\n",
    "print(suggestion)\n"
   ]
  }
 ],
 "metadata": {
  "kernelspec": {
   "display_name": "Python 3",
   "language": "python",
   "name": "python3"
  },
  "language_info": {
   "codemirror_mode": {
    "name": "ipython",
    "version": 3
   },
   "file_extension": ".py",
   "mimetype": "text/x-python",
   "name": "python",
   "nbconvert_exporter": "python",
   "pygments_lexer": "ipython3",
   "version": "3.10.13"
  }
 },
 "nbformat": 4,
 "nbformat_minor": 2
}
