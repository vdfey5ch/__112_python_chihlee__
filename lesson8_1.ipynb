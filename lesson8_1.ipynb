{
 "cells": [
  {
   "cell_type": "code",
   "execution_count": 6,
   "metadata": {},
   "outputs": [
    {
     "ename": "ImportError",
     "evalue": "cannot import name 'getStudent' from 'tools' (/workspaces/__112_python_chihlee__/tools.py)",
     "output_type": "error",
     "traceback": [
      "\u001b[0;31m---------------------------------------------------------------------------\u001b[0m",
      "\u001b[0;31mImportError\u001b[0m                               Traceback (most recent call last)",
      "\u001b[1;32m/workspaces/__112_python_chihlee__/lesson8_1.ipynb Cell 1\u001b[0m line \u001b[0;36m1\n\u001b[0;32m----> <a href='vscode-notebook-cell://codespaces%2Borange-guide-r4gjr955r5x4h55x6/workspaces/__112_python_chihlee__/lesson8_1.ipynb#W0sdnNjb2RlLXJlbW90ZQ%3D%3D?line=0'>1</a>\u001b[0m \u001b[39mfrom\u001b[39;00m \u001b[39mtools\u001b[39;00m \u001b[39mimport\u001b[39;00m getStudent\n\u001b[1;32m      <a href='vscode-notebook-cell://codespaces%2Borange-guide-r4gjr955r5x4h55x6/workspaces/__112_python_chihlee__/lesson8_1.ipynb#W0sdnNjb2RlLXJlbW90ZQ%3D%3D?line=2'>3</a>\u001b[0m stu1 \u001b[39m=\u001b[39m getStudent(name\u001b[39m=\u001b[39m\u001b[39m\"\u001b[39m\u001b[39mrobert\u001b[39m\u001b[39m\"\u001b[39m,chinese\u001b[39m=\u001b[39m\u001b[39m89\u001b[39m,math\u001b[39m=\u001b[39m\u001b[39m92\u001b[39m,english\u001b[39m=\u001b[39m\u001b[39m75\u001b[39m)\n\u001b[1;32m      <a href='vscode-notebook-cell://codespaces%2Borange-guide-r4gjr955r5x4h55x6/workspaces/__112_python_chihlee__/lesson8_1.ipynb#W0sdnNjb2RlLXJlbW90ZQ%3D%3D?line=3'>4</a>\u001b[0m \u001b[39mprint\u001b[39m(stu1\u001b[39m.\u001b[39mname)\n",
      "\u001b[0;31mImportError\u001b[0m: cannot import name 'getStudent' from 'tools' (/workspaces/__112_python_chihlee__/tools.py)"
     ]
    }
   ],
   "source": [
    "from tools import getStudent\n",
    "\n",
    "stu1 = getStudent(name=\"robert\",chinese=89,math=92,english=75)\n",
    "print(stu1.name)\n",
    "print(stu1.chinese)\n",
    "print(stu1.english)\n",
    "print(stu1.math)\n",
    "print(stu1.sum())"
   ]
  }
 ],
 "metadata": {
  "kernelspec": {
   "display_name": "Python 3",
   "language": "python",
   "name": "python3"
  },
  "language_info": {
   "codemirror_mode": {
    "name": "ipython",
    "version": 3
   },
   "file_extension": ".py",
   "mimetype": "text/x-python",
   "name": "python",
   "nbconvert_exporter": "python",
   "pygments_lexer": "ipython3",
   "version": "3.10.13"
  }
 },
 "nbformat": 4,
 "nbformat_minor": 2
}
