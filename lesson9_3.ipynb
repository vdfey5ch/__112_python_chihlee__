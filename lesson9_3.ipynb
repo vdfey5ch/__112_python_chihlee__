{
 "cells": [
  {
   "cell_type": "code",
   "execution_count": 15,
   "metadata": {},
   "outputs": [],
   "source": [
    "stu1 = [78,92,65,86,74]\n",
    "stu2 = [78,95,63,72,74]\n",
    "stu3 = [62,55,73,93,64]"
   ]
  },
  {
   "cell_type": "code",
   "execution_count": 12,
   "metadata": {},
   "outputs": [
    {
     "data": {
      "text/plain": [
       "[[78, 92, 65, 86, 74], [78, 95, 63, 72, 74], [62, 55, 73, 93, 64]]"
      ]
     },
     "execution_count": 12,
     "metadata": {},
     "output_type": "execute_result"
    }
   ],
   "source": [
    "students = [stu1,stu2,stu3]\n",
    "students"
   ]
  },
  {
   "cell_type": "code",
   "execution_count": 11,
   "metadata": {},
   "outputs": [
    {
     "data": {
      "text/plain": [
       "[[78, 92, 65, 86, 74], [78, 95, 63, 72, 74], [62, 55, 73, 93, 64]]"
      ]
     },
     "execution_count": 11,
     "metadata": {},
     "output_type": "execute_result"
    }
   ],
   "source": [
    "students = list()\n",
    "students.append(stu1)\n",
    "students.append(stu2)\n",
    "students.append(stu3)\n",
    "students"
   ]
  },
  {
   "cell_type": "code",
   "execution_count": 24,
   "metadata": {},
   "outputs": [
    {
     "data": {
      "text/plain": [
       "[72, 87, 76, 91, 56]"
      ]
     },
     "execution_count": 24,
     "metadata": {},
     "output_type": "execute_result"
    }
   ],
   "source": [
    "#建立一個學生的5個分數\n",
    "import random\n",
    "stu = []\n",
    "for _ in range(5):\n",
    "    score = random.randint(50,100)\n",
    "    stu.append(score)\n",
    "\n",
    "stu"
   ]
  },
  {
   "cell_type": "code",
   "execution_count": 31,
   "metadata": {},
   "outputs": [
    {
     "data": {
      "text/plain": [
       "[[66, 81, 70, 96, 77],\n",
       " [87, 74, 74, 84, 72],\n",
       " [99, 81, 59, 91, 56],\n",
       " [64, 68, 88, 96, 62],\n",
       " [64, 61, 96, 55, 93],\n",
       " [64, 54, 83, 83, 72],\n",
       " [55, 60, 81, 57, 67],\n",
       " [65, 81, 55, 95, 63],\n",
       " [94, 61, 51, 98, 78],\n",
       " [60, 58, 84, 77, 77],\n",
       " [50, 73, 93, 97, 79],\n",
       " [67, 73, 60, 51, 55],\n",
       " [75, 70, 96, 78, 54],\n",
       " [83, 66, 62, 62, 95],\n",
       " [94, 81, 60, 67, 95],\n",
       " [58, 90, 51, 83, 65],\n",
       " [72, 74, 69, 76, 63],\n",
       " [60, 54, 66, 70, 86],\n",
       " [63, 67, 86, 59, 64],\n",
       " [79, 55, 66, 71, 61],\n",
       " [53, 98, 67, 91, 66],\n",
       " [51, 53, 85, 70, 66],\n",
       " [57, 60, 62, 59, 89],\n",
       " [57, 90, 96, 63, 69],\n",
       " [62, 91, 99, 54, 65],\n",
       " [98, 56, 57, 69, 93],\n",
       " [73, 83, 65, 54, 97],\n",
       " [77, 79, 69, 88, 60],\n",
       " [83, 77, 67, 99, 84],\n",
       " [60, 99, 71, 95, 100],\n",
       " [71, 85, 68, 53, 59],\n",
       " [98, 92, 75, 54, 96],\n",
       " [89, 68, 70, 70, 50],\n",
       " [56, 97, 94, 61, 87],\n",
       " [93, 85, 77, 62, 51],\n",
       " [99, 72, 58, 68, 68],\n",
       " [60, 59, 53, 85, 54],\n",
       " [71, 59, 64, 62, 83],\n",
       " [70, 60, 66, 99, 82],\n",
       " [96, 79, 76, 99, 69],\n",
       " [76, 79, 75, 68, 69],\n",
       " [62, 77, 54, 92, 63],\n",
       " [59, 63, 60, 84, 68],\n",
       " [50, 98, 85, 71, 90],\n",
       " [64, 64, 81, 78, 86],\n",
       " [92, 52, 66, 83, 93],\n",
       " [57, 54, 99, 86, 93],\n",
       " [67, 61, 50, 81, 65],\n",
       " [88, 54, 75, 62, 96],\n",
       " [67, 91, 51, 66, 94]]"
      ]
     },
     "execution_count": 31,
     "metadata": {},
     "output_type": "execute_result"
    }
   ],
   "source": [
    "#建立一個學生的5個分數\n",
    "#建立50個學生\n",
    "\n",
    "students = []\n",
    "for _ in range(50):\n",
    "    stu = []\n",
    "    for _ in range(5):\n",
    "        score = random.randint(50,100)\n",
    "        stu.append(score)\n",
    "    students.append(stu)\n",
    "\n",
    "students"
   ]
  },
  {
   "cell_type": "code",
   "execution_count": 37,
   "metadata": {},
   "outputs": [
    {
     "data": {
      "text/plain": [
       "[[75, 73, 59, 79, 63],\n",
       " [79, 55, 83, 85, 81],\n",
       " [81, 68, 54, 85, 61],\n",
       " [63, 67, 68, 95, 66],\n",
       " [55, 79, 59, 86, 74],\n",
       " [52, 87, 69, 88, 57],\n",
       " [59, 94, 61, 100, 51],\n",
       " [59, 66, 65, 52, 67],\n",
       " [81, 62, 89, 81, 60],\n",
       " [60, 61, 77, 94, 77],\n",
       " [57, 61, 67, 71, 52],\n",
       " [70, 53, 71, 71, 94],\n",
       " [91, 71, 79, 94, 93],\n",
       " [89, 60, 73, 94, 91],\n",
       " [99, 78, 82, 71, 64],\n",
       " [54, 100, 56, 86, 65],\n",
       " [85, 97, 81, 73, 76],\n",
       " [55, 91, 52, 92, 82],\n",
       " [78, 94, 75, 78, 91],\n",
       " [71, 74, 94, 72, 97],\n",
       " [81, 64, 81, 74, 61],\n",
       " [51, 60, 73, 81, 88],\n",
       " [57, 55, 67, 64, 53],\n",
       " [94, 82, 100, 63, 81],\n",
       " [98, 79, 53, 97, 53],\n",
       " [84, 82, 56, 61, 58],\n",
       " [78, 57, 97, 70, 68],\n",
       " [72, 79, 71, 91, 72],\n",
       " [77, 76, 59, 93, 100],\n",
       " [90, 84, 92, 61, 63],\n",
       " [88, 57, 85, 63, 51],\n",
       " [94, 78, 90, 98, 51],\n",
       " [92, 63, 79, 55, 76],\n",
       " [79, 94, 62, 65, 64],\n",
       " [90, 78, 77, 52, 58],\n",
       " [71, 52, 66, 57, 89],\n",
       " [58, 50, 69, 64, 86],\n",
       " [86, 88, 97, 70, 90],\n",
       " [68, 97, 75, 56, 67],\n",
       " [58, 75, 96, 61, 70],\n",
       " [63, 89, 96, 92, 86],\n",
       " [98, 85, 95, 70, 86],\n",
       " [60, 76, 58, 75, 95],\n",
       " [74, 62, 83, 95, 85],\n",
       " [89, 97, 85, 70, 84],\n",
       " [60, 97, 90, 61, 99],\n",
       " [83, 95, 83, 78, 81],\n",
       " [91, 96, 51, 87, 63],\n",
       " [96, 64, 91, 61, 64],\n",
       " [52, 71, 93, 92, 56]]"
      ]
     },
     "execution_count": 37,
     "metadata": {},
     "output_type": "execute_result"
    }
   ],
   "source": [
    "import random\n",
    "def createStudent()->list[int]:\n",
    "    stu = []\n",
    "    for _ in range(5):\n",
    "        score = random.randint(50,100)\n",
    "        stu.append(score)\n",
    "    return stu\n",
    "\n",
    "classes = []\n",
    "students = []\n",
    "for _ in range(50):\n",
    "    stu =createStudent()\n",
    "    classes.append(stu)\n",
    "classes"
   ]
  },
  {
   "cell_type": "code",
   "execution_count": 40,
   "metadata": {},
   "outputs": [
    {
     "data": {
      "text/plain": [
       "[[55, 60, 99, 66, 100],\n",
       " [74, 85, 74, 90, 85],\n",
       " [89, 94, 80, 99, 63],\n",
       " [88, 77, 71, 100, 96],\n",
       " [88, 52, 99, 83, 96],\n",
       " [93, 94, 97, 80, 87],\n",
       " [90, 55, 55, 52, 61],\n",
       " [78, 77, 67, 94, 71],\n",
       " [59, 57, 79, 88, 100],\n",
       " [64, 61, 62, 69, 74]]"
      ]
     },
     "execution_count": 40,
     "metadata": {},
     "output_type": "execute_result"
    }
   ],
   "source": [
    "import random\n",
    "def createStudent()->list[int]:\n",
    "    stu = []\n",
    "    for _ in range(5):\n",
    "        score = random.randint(50,100)\n",
    "        stu.append(score)\n",
    "    return stu\n",
    "\n",
    "def createClasses(numbers:int)->list[list]:\n",
    "    classes = []\n",
    "    for _ in range(numbers):\n",
    "        stu =createStudent()\n",
    "        classes.append(stu)\n",
    "    return classes\n",
    "\n",
    "createClasses(10)"
   ]
  }
 ],
 "metadata": {
  "kernelspec": {
   "display_name": "Python 3",
   "language": "python",
   "name": "python3"
  },
  "language_info": {
   "codemirror_mode": {
    "name": "ipython",
    "version": 3
   },
   "file_extension": ".py",
   "mimetype": "text/x-python",
   "name": "python",
   "nbconvert_exporter": "python",
   "pygments_lexer": "ipython3",
   "version": "3.10.13"
  }
 },
 "nbformat": 4,
 "nbformat_minor": 2
}
